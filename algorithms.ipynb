{
 "cells": [
  {
   "cell_type": "code",
   "execution_count": 1,
   "metadata": {},
   "outputs": [],
   "source": [
    "def find_max_profit(prices):\n",
    "    \n",
    "    high = 0\n",
    "    h = 0\n",
    "    \n",
    "    for i in range(1, len(prices)):\n",
    "        \n",
    "        if prices[i] > high:\n",
    "            \n",
    "            high = prices[i]\n",
    "            h = i\n",
    "    \n",
    "    return high - min(prices[:h])"
   ]
  },
  {
   "cell_type": "code",
   "execution_count": 2,
   "metadata": {},
   "outputs": [
    {
     "data": {
      "text/plain": [
       "3530"
      ]
     },
     "execution_count": 2,
     "metadata": {},
     "output_type": "execute_result"
    }
   ],
   "source": [
    "prices = [1050, 270, 1540, 3800, 2]\n",
    "find_max_profit(prices)"
   ]
  },
  {
   "cell_type": "code",
   "execution_count": 3,
   "metadata": {},
   "outputs": [],
   "source": [
    "def recipe_batches(recipe, ingredients):\n",
    "    \n",
    "    batches = []\n",
    "    \n",
    "    for key in recipe.keys():\n",
    "        \n",
    "        if key not in ingredients.keys():\n",
    "            \n",
    "            return 0\n",
    "        \n",
    "        batches.append(ingredients[key] // recipe[key])\n",
    "        \n",
    "    return min(batches)"
   ]
  },
  {
   "cell_type": "code",
   "execution_count": 4,
   "metadata": {},
   "outputs": [
    {
     "data": {
      "text/plain": [
       "0"
      ]
     },
     "execution_count": 4,
     "metadata": {},
     "output_type": "execute_result"
    }
   ],
   "source": [
    "recipe_batches(\n",
    "  { 'milk': 100, 'butter': 50, 'flour': 5 },\n",
    "  { 'milk': 138, 'butter': 48, 'flour': 51 }\n",
    ")"
   ]
  },
  {
   "cell_type": "code",
   "execution_count": 20,
   "metadata": {},
   "outputs": [],
   "source": [
    "def eating_cookies(n, cache=None):\n",
    "    \n",
    "    def eatonacci(n):    \n",
    "        n -= 1\n",
    "        if n > 2:        \n",
    "            e = eatonacci(n)\n",
    "        else:\n",
    "            return [0, 0, 1, 2]\n",
    "        e.append(e[-1] + e[-2] + e[-3])\n",
    "        return e\n",
    "    \n",
    "    return 1 + sum(eatonacci(n)[:n + 1])"
   ]
  },
  {
   "cell_type": "code",
   "execution_count": 24,
   "metadata": {},
   "outputs": [
    {
     "name": "stdout",
     "output_type": "stream",
     "text": [
      "0 1\n",
      "10 274\n",
      "20 121415\n",
      "30 53798080\n",
      "40 23837527729\n",
      "50 10562230626642\n",
      "60 4680045560037375\n",
      "70 2073693258389777176\n",
      "80 918838005896863447985\n",
      "90 407130262715950048358946\n"
     ]
    }
   ],
   "source": [
    "for i in range(0, 100, 10):\n",
    "    print(i, eating_cookies(i))"
   ]
  },
  {
   "cell_type": "code",
   "execution_count": null,
   "metadata": {},
   "outputs": [],
   "source": []
  },
  {
   "cell_type": "code",
   "execution_count": null,
   "metadata": {},
   "outputs": [],
   "source": []
  }
 ],
 "metadata": {
  "kernelspec": {
   "display_name": "Python 3",
   "language": "python",
   "name": "python3"
  },
  "language_info": {
   "codemirror_mode": {
    "name": "ipython",
    "version": 3
   },
   "file_extension": ".py",
   "mimetype": "text/x-python",
   "name": "python",
   "nbconvert_exporter": "python",
   "pygments_lexer": "ipython3",
   "version": "3.7.4"
  }
 },
 "nbformat": 4,
 "nbformat_minor": 4
}
