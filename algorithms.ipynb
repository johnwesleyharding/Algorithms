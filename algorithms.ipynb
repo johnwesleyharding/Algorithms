{
 "cells": [
  {
   "cell_type": "code",
   "execution_count": 1,
   "metadata": {},
   "outputs": [],
   "source": [
    "def find_max_profit(prices):\n",
    "    \n",
    "    high = 0\n",
    "    h = 0\n",
    "    \n",
    "    for i in range(1, len(prices)):\n",
    "        \n",
    "        if prices[i] > high:\n",
    "            \n",
    "            high = prices[i]\n",
    "            h = i\n",
    "    \n",
    "    return high - min(prices[:h])"
   ]
  },
  {
   "cell_type": "code",
   "execution_count": 2,
   "metadata": {},
   "outputs": [
    {
     "data": {
      "text/plain": [
       "3530"
      ]
     },
     "execution_count": 2,
     "metadata": {},
     "output_type": "execute_result"
    }
   ],
   "source": [
    "prices = [1050, 270, 1540, 3800, 2]\n",
    "find_max_profit(prices)"
   ]
  },
  {
   "cell_type": "code",
   "execution_count": 3,
   "metadata": {},
   "outputs": [],
   "source": [
    "def recipe_batches(recipe, ingredients):\n",
    "    \n",
    "    batches = []\n",
    "    \n",
    "    for key in recipe.keys():\n",
    "        \n",
    "        if key not in ingredients.keys():\n",
    "            \n",
    "            return 0\n",
    "        \n",
    "        batches.append(ingredients[key] // recipe[key])\n",
    "        \n",
    "    return min(batches)"
   ]
  },
  {
   "cell_type": "code",
   "execution_count": 4,
   "metadata": {},
   "outputs": [
    {
     "data": {
      "text/plain": [
       "0"
      ]
     },
     "execution_count": 4,
     "metadata": {},
     "output_type": "execute_result"
    }
   ],
   "source": [
    "recipe_batches(\n",
    "  { 'milk': 100, 'butter': 50, 'flour': 5 },\n",
    "  { 'milk': 138, 'butter': 48, 'flour': 51 }\n",
    ")"
   ]
  },
  {
   "cell_type": "code",
   "execution_count": 5,
   "metadata": {},
   "outputs": [],
   "source": [
    "def eating_cookies(n, cache=None):\n",
    "    \n",
    "    def eatonacci(n):\n",
    "        \n",
    "        n -= 1\n",
    "        \n",
    "        if n > 2:\n",
    "            \n",
    "            e = eatonacci(n)\n",
    "            \n",
    "        else:\n",
    "            \n",
    "            return [0, 0, 1, 2]\n",
    "        \n",
    "        e.append(e[-1] + e[-2] + e[-3])\n",
    "        return e\n",
    "    \n",
    "    return 1 + sum(eatonacci(n)[:n + 1])"
   ]
  },
  {
   "cell_type": "code",
   "execution_count": null,
   "metadata": {},
   "outputs": [],
   "source": [
    "for i in range(0, 721, 8):\n",
    "    print(eating_cookies(i))"
   ]
  },
  {
   "cell_type": "code",
   "execution_count": 20,
   "metadata": {},
   "outputs": [],
   "source": [
    "def rock_paper_scissors(n):\n",
    "    \n",
    "    l = 3 ** n\n",
    "    r = [['' for j in range(n)] for i in range(l)]\n",
    "    rps = ['rock', 'paper', 'scissors']\n",
    "    \n",
    "    for i in range(l):\n",
    "        \n",
    "        for j in range(n):\n",
    "            \n",
    "            r[i][j] = rps[i // 3 ** ((n - 1) - j) % 3]\n",
    "                \n",
    "    return r"
   ]
  },
  {
   "cell_type": "code",
   "execution_count": 22,
   "metadata": {},
   "outputs": [],
   "source": [
    "def rock_paper_scissors(n):\n",
    "    \n",
    "    return [[['rock', 'paper', 'scissors'][i // 3 ** ((n - 1) - j) % 3] for j in range(n)] for i in range(3 ** n)]"
   ]
  },
  {
   "cell_type": "code",
   "execution_count": 23,
   "metadata": {},
   "outputs": [
    {
     "data": {
      "text/plain": [
       "[['rock', 'rock'],\n",
       " ['rock', 'paper'],\n",
       " ['rock', 'scissors'],\n",
       " ['paper', 'rock'],\n",
       " ['paper', 'paper'],\n",
       " ['paper', 'scissors'],\n",
       " ['scissors', 'rock'],\n",
       " ['scissors', 'paper'],\n",
       " ['scissors', 'scissors']]"
      ]
     },
     "execution_count": 23,
     "metadata": {},
     "output_type": "execute_result"
    }
   ],
   "source": [
    "r = rock_paper_scissors(2)\n",
    "r"
   ]
  },
  {
   "cell_type": "code",
   "execution_count": null,
   "metadata": {},
   "outputs": [],
   "source": []
  },
  {
   "cell_type": "code",
   "execution_count": null,
   "metadata": {},
   "outputs": [],
   "source": []
  }
 ],
 "metadata": {
  "kernelspec": {
   "display_name": "Python 3",
   "language": "python",
   "name": "python3"
  },
  "language_info": {
   "codemirror_mode": {
    "name": "ipython",
    "version": 3
   },
   "file_extension": ".py",
   "mimetype": "text/x-python",
   "name": "python",
   "nbconvert_exporter": "python",
   "pygments_lexer": "ipython3",
   "version": "3.7.4"
  }
 },
 "nbformat": 4,
 "nbformat_minor": 4
}
