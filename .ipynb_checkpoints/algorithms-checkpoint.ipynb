{
 "cells": [
  {
   "cell_type": "code",
   "execution_count": null,
   "metadata": {},
   "outputs": [],
   "source": [
    "import argparse\n",
    "\n",
    "def find_max_profit(prices):\n",
    "    \n",
    "    high = 0\n",
    "    low = -1\n",
    "    h = 0\n",
    "    l = 0\n",
    "    \n",
    "    for i in len(prices):\n",
    "        \n",
    "        if prices[i] > high:\n",
    "            \n",
    "            high = prices[i]\n",
    "            h = i\n",
    "    \n",
    "    return high - low(prices[:h]):\n",
    "\n",
    "if __name__ == '__main__':\n",
    "    # This is just some code to accept inputs from the command line\n",
    "    parser = argparse.ArgumentParser(description='Find max profit from prices.')\n",
    "    parser.add_argument('integers', metavar='N', type=int, nargs='+', help='an integer price')\n",
    "    args = parser.parse_args()\n",
    "\n",
    "    print(\"A profit of ${profit} can be made from the stock prices {prices}.\".format(profit=find_max_profit(args.integers), prices=args.integers))"
   ]
  }
 ],
 "metadata": {
  "kernelspec": {
   "display_name": "Python 3",
   "language": "python",
   "name": "python3"
  },
  "language_info": {
   "codemirror_mode": {
    "name": "ipython",
    "version": 3
   },
   "file_extension": ".py",
   "mimetype": "text/x-python",
   "name": "python",
   "nbconvert_exporter": "python",
   "pygments_lexer": "ipython3",
   "version": "3.7.4"
  }
 },
 "nbformat": 4,
 "nbformat_minor": 4
}
